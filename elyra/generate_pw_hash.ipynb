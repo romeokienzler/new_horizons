{
 "cells": [
  {
   "cell_type": "code",
   "execution_count": null,
   "metadata": {},
   "outputs": [],
   "source": [
    "!pip install jupyterlab"
   ]
  },
  {
   "cell_type": "code",
   "execution_count": 2,
   "metadata": {},
   "outputs": [
    {
     "name": "stdout",
     "output_type": "stream",
     "text": [
      "sha256:e4b23335aea1:307fd44fe3501280b9c109b5f7fc5e8a9b757ab9911c0647e70a17bf6c7c12fb\n"
     ]
    }
   ],
   "source": [
    "from notebook.auth import passwd\n",
    "\n",
    "my_password = \"strengehoim\"\n",
    "\n",
    "hashed_password = passwd(passphrase=my_password, algorithm='sha256')\n",
    "\n",
    "print(hashed_password)"
   ]
  },
  {
   "cell_type": "code",
   "execution_count": null,
   "metadata": {},
   "outputs": [],
   "source": [
    "jupyter lab --NotebookApp.password='sha256:e4b23335aea1:307fd44fe3501280b9c109b5f7fc5e8a9b757ab9911c0647e70a17bf6c7c12fb'"
   ]
  }
 ],
 "metadata": {
  "kernelspec": {
   "display_name": "Python 3",
   "language": "python",
   "name": "python3"
  },
  "language_info": {
   "codemirror_mode": {
    "name": "ipython",
    "version": 3
   },
   "file_extension": ".py",
   "mimetype": "text/x-python",
   "name": "python",
   "nbconvert_exporter": "python",
   "pygments_lexer": "ipython3",
   "version": "3.11.1"
  },
  "orig_nbformat": 4
 },
 "nbformat": 4,
 "nbformat_minor": 2
}
