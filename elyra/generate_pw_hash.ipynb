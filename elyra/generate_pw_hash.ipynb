{
 "cells": [
  {
   "cell_type": "code",
   "execution_count": null,
   "metadata": {},
   "outputs": [],
   "source": [
    "!pip install jupyterlab"
   ]
  },
  {
   "cell_type": "code",
   "execution_count": 4,
   "metadata": {},
   "outputs": [
    {
     "name": "stdout",
     "output_type": "stream",
     "text": [
      "sha256:d4e4113ab460:0e0df3690107b898a236c25c7ce179f0d337a3bf753768627899b0bf0a5bf7aa\n"
     ]
    }
   ],
   "source": [
    "from notebook.auth import passwd\n",
    "\n",
    "my_password = \"strengehoim\"\n",
    "\n",
    "hashed_password = passwd(passphrase=my_password, algorithm='sha256')\n",
    "\n",
    "print(hashed_password)"
   ]
  },
  {
   "cell_type": "code",
   "execution_count": null,
   "metadata": {},
   "outputs": [],
   "source": [
    "jupyter lab --NotebookApp.password='sha256:d4e4113ab460:0e0df3690107b898a236c25c7ce179f0d337a3bf753768627899b0bf0a5bf7aa'"
   ]
  }
 ],
 "metadata": {
  "kernelspec": {
   "display_name": "Python 3",
   "language": "python",
   "name": "python3"
  },
  "language_info": {
   "codemirror_mode": {
    "name": "ipython",
    "version": 3
   },
   "file_extension": ".py",
   "mimetype": "text/x-python",
   "name": "python",
   "nbconvert_exporter": "python",
   "pygments_lexer": "ipython3",
   "version": "3.11.1"
  },
  "orig_nbformat": 4
 },
 "nbformat": 4,
 "nbformat_minor": 2
}
